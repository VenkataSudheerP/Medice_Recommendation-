{
 "cells": [
  {
   "cell_type": "markdown",
   "id": "9a751a93-4a8a-47a6-9d37-b8f0c610c966",
   "metadata": {},
   "source": [
    "##Medicine Recommendation system"
   ]
  },
  {
   "cell_type": "code",
   "execution_count": null,
   "id": "1033211e-4757-45b4-97eb-4b488de143ea",
   "metadata": {},
   "outputs": [],
   "source": [
    "#imprt Necessary  Library \n",
    "import pandas as pd \n",
    "import numpy as np \n",
    "import matplotlib.pyplot as plt \n",
    "import seaborn as sns \n",
    "import warnings \n",
    "warnings.filterwarnings('ignore')\n",
    "\n",
    "\n",
    "from sklearn.model_selection import train_test_split\n",
    "from sklearn.preprocessing import LabelEncoder\n",
    "\n",
    "#Import Models \n",
    "from sklearn.svm import SVC\n",
    "from sklearn.ensemble import RandomForestClassifier , GradientBoostingClassifier\n",
    "from sklearn.neighbors import  KNeighborsClassifier\n",
    "from sklearn.naive_bayes import MultinomialNB\n",
    "\n",
    "from sklearn.metrics import accuracy_score \n",
    "from sklearn.metrics import confusion_matrix\n",
    "\n",
    "\n"
   ]
  },
  {
   "cell_type": "markdown",
   "id": "520248d9-70a4-47b1-9593-470ba4aae0c5",
   "metadata": {},
   "source": [
    "Load Dataset "
   ]
  },
  {
   "cell_type": "code",
   "execution_count": null,
   "id": "d94a91cf-f1e4-4604-a594-a4c13340a0af",
   "metadata": {},
   "outputs": [],
   "source": [
    "dataset = pd.read_csv('dataset/Training.csv')"
   ]
  },
  {
   "cell_type": "code",
   "execution_count": null,
   "id": "f2b3d2f9-fb08-4f24-9d70-be1ba82143b9",
   "metadata": {
    "scrolled": true
   },
   "outputs": [],
   "source": [
    "dataset"
   ]
  },
  {
   "cell_type": "code",
   "execution_count": null,
   "id": "f582c462-4ef2-4a90-899b-930d7ed3e888",
   "metadata": {},
   "outputs": [],
   "source": [
    "dataset.shape"
   ]
  },
  {
   "cell_type": "code",
   "execution_count": null,
   "id": "dc216129-482a-4afa-bc2e-70013449ebe8",
   "metadata": {},
   "outputs": [],
   "source": [
    "dataset.isnull().sum()\n"
   ]
  },
  {
   "cell_type": "code",
   "execution_count": null,
   "id": "3a836761-4d71-45ef-914a-f1af8782434a",
   "metadata": {},
   "outputs": [],
   "source": [
    "dataset.describe()"
   ]
  },
  {
   "cell_type": "code",
   "execution_count": null,
   "id": "3c6c27b8-6bb5-4e9b-8a70-15308d93f0b3",
   "metadata": {},
   "outputs": [],
   "source": [
    "dataset.head(2)"
   ]
  },
  {
   "cell_type": "code",
   "execution_count": null,
   "id": "7788abfd-64f1-4201-9cba-74e8ce3eb163",
   "metadata": {},
   "outputs": [],
   "source": [
    "dataset.prognosis.value_counts()"
   ]
  },
  {
   "cell_type": "code",
   "execution_count": null,
   "id": "94f84d70-139f-477f-9eb6-d04014208ac2",
   "metadata": {},
   "outputs": [],
   "source": [
    "len(dataset.prognosis.value_counts()) #total unique no. of desiese "
   ]
  },
  {
   "cell_type": "code",
   "execution_count": null,
   "id": "51a4d5dd-76d4-4f44-af9c-d688274d720d",
   "metadata": {},
   "outputs": [],
   "source": [
    "dataset.prognosis.unique()"
   ]
  },
  {
   "cell_type": "code",
   "execution_count": null,
   "id": "dff99726-1a76-4a9e-b693-5076701d27a7",
   "metadata": {},
   "outputs": [],
   "source": [
    "X = dataset.drop('prognosis' , axis = 1)\n",
    "y = dataset['prognosis']"
   ]
  },
  {
   "cell_type": "code",
   "execution_count": null,
   "id": "4a235e03-547b-4406-84f4-cf15bc6f59cc",
   "metadata": {},
   "outputs": [],
   "source": [
    "le = LabelEncoder()\n",
    "le.fit(y)\n",
    "Y = le.transform(y)"
   ]
  },
  {
   "cell_type": "code",
   "execution_count": null,
   "id": "543663eb-019f-48fe-87e7-f5a990798372",
   "metadata": {},
   "outputs": [],
   "source": [
    "Y"
   ]
  },
  {
   "cell_type": "code",
   "execution_count": null,
   "id": "61e49b35-11f7-433e-b244-4384fe8edf62",
   "metadata": {},
   "outputs": [],
   "source": [
    "X"
   ]
  },
  {
   "cell_type": "code",
   "execution_count": null,
   "id": "8322ae58-5060-4bc9-8b89-5c07c2c79396",
   "metadata": {},
   "outputs": [],
   "source": [
    "Y"
   ]
  },
  {
   "cell_type": "code",
   "execution_count": null,
   "id": "5eca26db-da70-4c3f-b5aa-e7734b77f2cd",
   "metadata": {},
   "outputs": [],
   "source": [
    "X_train, X_test, y_train, y_test = train_test_split(X,Y , test_size=0.3, random_state=42)"
   ]
  },
  {
   "cell_type": "code",
   "execution_count": null,
   "id": "8d732ae2-a8b0-450c-8019-100e23ecaf78",
   "metadata": {},
   "outputs": [],
   "source": [
    "X_train"
   ]
  },
  {
   "cell_type": "code",
   "execution_count": null,
   "id": "4a0b6714-d39b-4455-89f2-00f7efefdb9f",
   "metadata": {},
   "outputs": [],
   "source": [
    "X_test"
   ]
  },
  {
   "cell_type": "code",
   "execution_count": null,
   "id": "dffa9563-f049-4995-9f33-d6b9314c007f",
   "metadata": {},
   "outputs": [],
   "source": [
    "models = {\n",
    "    'SVC': SVC(kernel = 'linear'), \n",
    "    'Random_forest' : RandomForestClassifier(n_estimators= 100 , random_state=42),\n",
    "    'Gradiant_Boosting': GradientBoostingClassifier(n_estimators=100 , random_state = 42),\n",
    "    'MultiNomialNB' : MultinomialNB(),\n",
    "    'Kneighbours': KNeighborsClassifier(n_neighbors= 5 )\n",
    "}\n",
    "\n",
    "\n",
    "for model_name , model in models.items():\n",
    "    model.fit(X_train,y_train)\n",
    "\n",
    "    y_pred = model.predict(X_test)\n",
    "\n",
    "    accuracy  = accuracy_score(y_test, y_pred )\n",
    "\n",
    "    cm = confusion_matrix(y_test , y_pred)\n",
    "\n",
    "    print('-=================================================================')\n",
    "    print(f\"{model_name } accuracy :{accuracy}\")\n",
    "    print(f\"{model_name }  Confusion_matrics : {cm}\")\n",
    "    print(np.array2string(cm, separator = \",\") )"
   ]
  },
  {
   "cell_type": "code",
   "execution_count": null,
   "id": "14ec7cd5-e890-4866-b6bf-2b3d1f7a3ecb",
   "metadata": {},
   "outputs": [],
   "source": [
    "rf = RandomForestClassifier(n_estimators= 100 , random_state=42)\n",
    "rf.fit(X_train , y_train)\n",
    "y_pred = rf.predict(X_test)\n",
    "accuracy = accuracy_score(y_test , y_pred)\n",
    "accuracy"
   ]
  },
  {
   "cell_type": "code",
   "execution_count": null,
   "id": "6a62428b-621b-4ac3-bab7-814522859dfe",
   "metadata": {},
   "outputs": [],
   "source": [
    "svc = SVC(kernel = 'linear')\n",
    "svc = SVC(kernel = 'linear')\n",
    "svc.fit(X_train , y_train)\n",
    "y_pred = svc.predict(X_test)\n",
    "accuracy = accuracy_score(y_test , y_pred)\n",
    "accuracy"
   ]
  },
  {
   "cell_type": "code",
   "execution_count": null,
   "id": "d62aaaa4-5a4f-4652-8066-9f8e4680d20b",
   "metadata": {},
   "outputs": [],
   "source": [
    "import pickle \n",
    "pickle.dump(rf , open('model/rf.pkl','wb') )# for RF model \n",
    "\n",
    " \n",
    "pickle.dump(svc , open('model/svc.pkl','wb') )# for  Svc model "
   ]
  },
  {
   "cell_type": "code",
   "execution_count": null,
   "id": "bf4c78c7-a2dd-4a57-a523-33f9d71ef7cd",
   "metadata": {},
   "outputs": [],
   "source": [
    "#load model \n",
    "rf = pickle.load(open(\"model/rf.pkl\", 'rb'))\n",
    "svc = pickle.load(open(\"model/svc.pkl\", 'rb'))"
   ]
  },
  {
   "cell_type": "code",
   "execution_count": null,
   "id": "537574c4-8c38-42ec-909c-9ca4fdaa75dd",
   "metadata": {},
   "outputs": [],
   "source": [
    "rf"
   ]
  },
  {
   "cell_type": "code",
   "execution_count": null,
   "id": "8820b0e2-f216-473c-b073-85e28e7a6cf3",
   "metadata": {},
   "outputs": [],
   "source": [
    "X_test.iloc[1].values.reshape(1,-1) # test 1 \n"
   ]
  },
  {
   "cell_type": "code",
   "execution_count": null,
   "id": "9a18b80a-6e1a-41db-8eb9-743286e0825e",
   "metadata": {},
   "outputs": [],
   "source": [
    "rf.predict([[0, 1, 0, 0, 0, 0, 0, 0, 0, 0, 0, 0, 0, 0, 0, 0, 0, 0, 0, 0, 0, 0,\n",
    "        0, 0, 0, 0, 0, 0, 0, 0, 0, 0, 0, 0, 0, 0, 0, 0, 0, 0, 0, 0, 0, 0,\n",
    "        0, 0, 0, 0, 0, 0, 0, 0, 0, 0, 0, 0, 0, 0, 0, 0, 0, 0, 0, 0, 0, 0,\n",
    "        0, 0, 0, 0, 0, 0, 0, 0, 0, 0, 0, 0, 0, 0, 0, 0, 0, 0, 0, 0, 0, 0,\n",
    "        0, 0, 0, 0, 0, 0, 0, 0, 0, 0, 0, 0, 0, 0, 0, 0, 0, 0, 0, 0, 0, 0,\n",
    "        0, 0, 0, 0, 0, 0, 0, 0, 0, 0, 0, 0, 1, 1, 1, 0, 0, 0, 0, 0, 0, 0]])   # test from Rf "
   ]
  },
  {
   "cell_type": "code",
   "execution_count": null,
   "id": "709a5160-d8cf-43e0-9aaf-b05c1a2471b6",
   "metadata": {},
   "outputs": [],
   "source": [
    "svc.predict([[0, 1, 0, 0, 0, 0, 0, 0, 0, 0, 0, 0, 0, 0, 0, 0, 0, 0, 0, 0, 0, 0,\n",
    "        0, 0, 0, 0, 0, 0, 0, 0, 0, 0, 0, 0, 0, 0, 0, 0, 0, 0, 0, 0, 0, 0,\n",
    "        0, 0, 0, 0, 0, 0, 0, 0, 0, 0, 0, 0, 0, 0, 0, 0, 0, 0, 0, 0, 0, 0,\n",
    "        0, 0, 0, 0, 0, 0, 0, 0, 0, 0, 0, 0, 0, 0, 0, 0, 0, 0, 0, 0, 0, 0,\n",
    "        0, 0, 0, 0, 0, 0, 0, 0, 0, 0, 0, 0, 0, 0, 0, 0, 0, 0, 0, 0, 0, 0,\n",
    "        0, 0, 0, 0, 0, 0, 0, 0, 0, 0, 0, 0, 1, 1, 1, 0, 0, 0, 0, 0, 0, 0]])"
   ]
  },
  {
   "cell_type": "code",
   "execution_count": null,
   "id": "13db41d7-c504-49ca-9d83-25fda77547b7",
   "metadata": {},
   "outputs": [],
   "source": [
    "X_test.iloc[7].values.reshape(1,-1)  # test 2 "
   ]
  },
  {
   "cell_type": "code",
   "execution_count": null,
   "id": "53eee73c-b16d-4105-99fb-72ff67a7f970",
   "metadata": {},
   "outputs": [],
   "source": [
    "rf.predict([[0, 0, 0, 0, 0, 0, 0, 0, 0, 0, 0, 0, 0, 0, 0, 0, 0, 0, 0, 0, 0, 0,\n",
    "        0, 0, 0, 0, 0, 0, 0, 0, 0, 0, 0, 0, 0, 0, 0, 0, 0, 0, 0, 0, 0, 0,\n",
    "        0, 0, 0, 0, 0, 0, 0, 0, 0, 0, 0, 0, 0, 0, 0, 0, 0, 0, 0, 0, 0, 0,\n",
    "        0, 0, 0, 0, 0, 0, 0, 0, 0, 0, 0, 0, 0, 0, 1, 1, 1, 0, 0, 0, 0, 0,\n",
    "        0, 0, 0, 0, 0, 0, 0, 0, 0, 0, 0, 0, 0, 0, 0, 0, 0, 0, 0, 0, 0, 0,\n",
    "        0, 0, 0, 0, 0, 0, 0, 0, 0, 0, 0, 1, 0, 0, 0, 0, 0, 0, 0, 0, 0, 0]])"
   ]
  },
  {
   "cell_type": "code",
   "execution_count": null,
   "id": "fa3a8530-d945-48b3-a659-6e2bb4a10de6",
   "metadata": {},
   "outputs": [],
   "source": [
    "y_test "
   ]
  },
  {
   "cell_type": "markdown",
   "id": "6d623a5e-b807-4e50-88ab-4171693a0cc1",
   "metadata": {},
   "source": [
    "MAke Recommendation And Predetion "
   ]
  },
  {
   "cell_type": "code",
   "execution_count": null,
   "id": "9240c025-d20b-49d4-997a-ba6848e793e5",
   "metadata": {},
   "outputs": [],
   "source": [
    "#load few data set \n",
    "\n",
    "precaution = pd.read_csv(\"dataset/precautions_df.csv\")\n",
    "workout = pd.read_csv(\"dataset/workout_df.csv\")\n",
    "medication = pd.read_csv('dataset/medications.csv')\n",
    "diets = pd.read_csv('dataset/diets.csv')\n",
    "description = pd.read_csv(\"dataset/description.csv\")\n"
   ]
  },
  {
   "cell_type": "code",
   "execution_count": null,
   "id": "0b4432a5-2359-4c84-80d2-84f6da786e88",
   "metadata": {},
   "outputs": [],
   "source": [
    "#healper Function \n",
    "\n",
    "def helper(dis):\n",
    "    descr = description[description['Disease'] == dis ]['Description']\n",
    "    descr = \" \".join({ w for w in descr})\n",
    "    \n",
    "    pre = precaution[precaution['Disease'] == dis ][['Precaution_1',\t'Precaution_2',\t'Precaution_3'\t,'Precaution_4']]\n",
    "    pre  = [col for col in pre.values]\n",
    "\n",
    "\n",
    "    die = diets[diets['Disease']== dis ]['Diet']\n",
    "    die = [die for die in die.values]\n",
    "    work = workout[workout['disease']== dis ]['workout']\n",
    "\n",
    "    med = medication[medication['Disease'] == dis ]['Medication']\n",
    "    med = [med for med in med.values]\n",
    "\n",
    "    return descr , pre , die , med, work\n",
    "\n",
    "\n",
    "\n",
    "\n",
    "\n",
    "symptom_dict = {'itching': 0, 'skin_rash': 1, 'nodal_skin_eruptions': 2, 'continuous_sneezing': 3, 'shivering': 4, 'chills': 5, 'joint_pain': 6, 'stomach_pain': 7, 'acidity': 8, 'ulcers_on_tongue': 9, 'muscle_wasting': 10, 'vomiting': 11, 'burning_micturition': 12, 'spotting_ urination': 13, 'fatigue': 14, 'weight_gain': 15, 'anxiety': 16, 'cold_hands_and_feets': 17, 'mood_swings': 18, 'weight_loss': 19, 'restlessness': 20, 'lethargy': 21, 'patches_in_throat': 22, 'irregular_sugar_level': 23, 'cough': 24, 'high_fever': 25, 'sunken_eyes': 26, 'breathlessness': 27, 'sweating': 28, 'dehydration': 29, 'indigestion': 30, 'headache': 31, 'yellowish_skin': 32, 'dark_urine': 33, 'nausea': 34, 'loss_of_appetite': 35, 'pain_behind_the_eyes': 36, 'back_pain': 37, 'constipation': 38, 'abdominal_pain': 39, 'diarrhoea': 40, 'mild_fever': 41, 'yellow_urine': 42, 'yellowing_of_eyes': 43, 'acute_liver_failure': 44, 'fluid_overload': 45, 'swelling_of_stomach': 46, 'swelled_lymph_nodes': 47, 'malaise': 48, 'blurred_and_distorted_vision': 49, 'phlegm': 50, 'throat_irritation': 51, 'redness_of_eyes': 52, 'sinus_pressure': 53, 'runny_nose': 54, 'congestion': 55, 'chest_pain': 56, 'weakness_in_limbs': 57, 'fast_heart_rate': 58, 'pain_during_bowel_movements': 59, 'pain_in_anal_region': 60, 'bloody_stool': 61, 'irritation_in_anus': 62, 'neck_pain': 63, 'dizziness': 64, 'cramps': 65, 'bruising': 66, 'obesity': 67, 'swollen_legs': 68, 'swollen_blood_vessels': 69, 'puffy_face_and_eyes': 70, 'enlarged_thyroid': 71, 'brittle_nails': 72, 'swollen_extremeties': 73, 'excessive_hunger': 74, 'extra_marital_contacts': 75, 'drying_and_tingling_lips': 76, 'slurred_speech': 77, 'knee_pain': 78, 'hip_joint_pain': 79, 'muscle_weakness': 80, 'stiff_neck': 81, 'swelling_joints': 82, 'movement_stiffness': 83, 'spinning_movements': 84, 'loss_of_balance': 85, 'unsteadiness': 86, 'weakness_of_one_body_side': 87, 'loss_of_smell': 88, 'bladder_discomfort': 89, 'foul_smell_of urine': 90, 'continuous_feel_of_urine': 91, 'passage_of_gases': 92, 'internal_itching': 93, 'toxic_look_(typhos)': 94, 'depression': 95, 'irritability': 96, 'muscle_pain': 97, 'altered_sensorium': 98, 'red_spots_over_body': 99, 'belly_pain': 100, 'abnormal_menstruation': 101, 'dischromic _patches': 102, 'watering_from_eyes': 103, 'increased_appetite': 104, 'polyuria': 105, 'family_history': 106, 'mucoid_sputum': 107, 'rusty_sputum': 108, 'lack_of_concentration': 109, 'visual_disturbances': 110, 'receiving_blood_transfusion': 111, 'receiving_unsterile_injections': 112, 'coma': 113, 'stomach_bleeding': 114, 'distention_of_abdomen': 115, 'history_of_alcohol_consumption': 116, 'fluid_overload.1': 117, 'blood_in_sputum': 118, 'prominent_veins_on_calf': 119, 'palpitations': 120, 'painful_walking': 121, 'pus_filled_pimples': 122, 'blackheads': 123, 'scurring': 124, 'skin_peeling': 125, 'silver_like_dusting': 126, 'small_dents_in_nails': 127, 'inflammatory_nails': 128, 'blister': 129, 'red_sore_around_nose': 130, 'yellow_crust_ooze': 131}\n",
    "\n",
    "diseases_list = {15: 'Fungal infection', 20: 'Hepatitis C', 22: 'Hepatitis E', 3: 'Alcoholic hepatitis', 36: 'Tuberculosis', 10: 'Common Cold', 34: 'Pneumonia', 13: 'Dimorphic hemmorhoids(piles)', 18: 'Heart attack', 39: 'Varicose veins', 26: 'Hypothyroidism', 24: 'Hyperthyroidism', 25: 'Hypoglycemia', 31: 'Osteoarthristis', 5: 'Arthritis', 0: '(vertigo) Paroymsal  Positional Vertigo', 2: 'Acne', 38: 'Urinary tract infection', 35: 'Psoriasis', 21: 'Hepatitis D', 19: 'Hepatitis B', 4: 'Allergy', 40: 'hepatitis A', 16: 'GERD', 9: 'Chronic cholestasis', 14: 'Drug Reaction', 33: 'Peptic ulcer diseae', 1: 'AIDS', 12: 'Diabetes', 17: 'Gastroenteritis', 6: 'Bronchial Asthma', 23: 'Hypertension', 30: 'Migraine', 7: 'Cervical spondylosis', 32: 'Paralysis (brain hemorrhage)', 28: 'Jaundice', 29: 'Malaria', 8: 'Chicken pox', 11: 'Dengue', 37: 'Typhoid', 27: 'Impetigo'}\n",
    "\n",
    "\n",
    "\n",
    "\n",
    "#model prediction \n",
    "\n",
    "def get_predicted_value(patient_symptoms):\n",
    "    input_vector = np.zeros(len(symptom_dict))\n",
    "    for item in patient_symptoms:\n",
    "        input_vector[symptom_dict[item]] = 1\n",
    "    return diseases_list[svc.predict([input_vector])[0]]"
   ]
  },
  {
   "cell_type": "code",
   "execution_count": null,
   "id": "5583dd40-3d23-4448-8fc6-7770d344d56a",
   "metadata": {},
   "outputs": [],
   "source": [
    "symptoms = input('Enter Your Symptoms Here..')\n",
    "user_symptoms = [ s for s in symptoms.split(',')]\n",
    "user_symptoms = [ sym.strip(\"[]'\") for sym in user_symptoms]\n",
    "\n",
    "predicted_disease = get_predicted_value(user_symptoms)\n",
    "descr , pre , die , med, work = helper(predicted_disease)\n",
    "\n",
    "#Result Time \n",
    "print('********************************Predicted Disease ************************************')\n",
    "print(\" Machine Prediction is:-\", predicted_disease )\n",
    "print('********************************Predicted Description ************************************')\n",
    "print(descr)\n",
    "print('********************************Predicted Precaution ************************************')\n",
    "i = 1\n",
    "for j in pre[0]:\n",
    "    print(i , ':' , j)\n",
    "    i += 1\n",
    "print('********************************Predicted Diets ************************************')\n",
    "for i in die:\n",
    "    \n",
    "    print(i)\n",
    "    \n",
    "print('********************************Predicted Medication ************************************')\n",
    "i = 1 \n",
    "for j in med:\n",
    "    print(i, \":\", j)\n",
    "    i+= 1 \n",
    "print('********************************Predicted workout ************************************')\n",
    "i = 1 \n",
    "for j in work:\n",
    "    print(i, \":\", j)\n",
    "    i+= 1 \n"
   ]
  },
  {
   "cell_type": "code",
   "execution_count": null,
   "id": "ceb000b9-b811-4b73-9c0b-8498f16eccc8",
   "metadata": {},
   "outputs": [],
   "source": [
    " predicted_disease\n"
   ]
  },
  {
   "cell_type": "code",
   "execution_count": null,
   "id": "146e14e1-808d-4936-9468-26a986bb284f",
   "metadata": {},
   "outputs": [],
   "source": [
    "# descr = description[description['Disease'] == predicted_disease]['Description']\n",
    "# descr = \" \".join({ w for w in descr})\n",
    "# pre = precaution[precaution['Disease'] == predicted_disease][['Precaution_1',\t'Precaution_2',\t'Precaution_3'\t,'Precaution_4']]\n",
    "# pre  = [col for col in pre.values]"
   ]
  },
  {
   "cell_type": "code",
   "execution_count": null,
   "id": "d7b27e0a-306b-48c0-9fd4-2bb80fd22f07",
   "metadata": {},
   "outputs": [],
   "source": []
  },
  {
   "cell_type": "code",
   "execution_count": null,
   "id": "8149e115-7101-462a-b624-b7c26205412c",
   "metadata": {},
   "outputs": [],
   "source": []
  },
  {
   "cell_type": "code",
   "execution_count": null,
   "id": "13579726-b18c-4cc7-9197-41b1711530fb",
   "metadata": {},
   "outputs": [],
   "source": []
  },
  {
   "cell_type": "code",
   "execution_count": null,
   "id": "28860099-5ac9-48b8-ac9e-80cf6cbe504d",
   "metadata": {},
   "outputs": [],
   "source": []
  },
  {
   "cell_type": "code",
   "execution_count": null,
   "id": "d3192eed-8462-4f66-8c10-51c9342ac908",
   "metadata": {},
   "outputs": [],
   "source": []
  },
  {
   "cell_type": "code",
   "execution_count": null,
   "id": "7ec89384-f29b-4e58-8b16-b09a5337dc2c",
   "metadata": {},
   "outputs": [],
   "source": []
  },
  {
   "cell_type": "code",
   "execution_count": null,
   "id": "cb3d8de8-8008-445a-b788-3d0ba14cf7a3",
   "metadata": {},
   "outputs": [],
   "source": []
  },
  {
   "cell_type": "code",
   "execution_count": null,
   "id": "4c7bcdca-49bf-4b55-aefb-c40d30fa0733",
   "metadata": {},
   "outputs": [],
   "source": []
  },
  {
   "cell_type": "code",
   "execution_count": null,
   "id": "72084e51-763d-448d-b816-f3f7831e438d",
   "metadata": {},
   "outputs": [],
   "source": []
  },
  {
   "cell_type": "code",
   "execution_count": null,
   "id": "45cca93e-179d-45f9-9328-0fd713dc6e53",
   "metadata": {},
   "outputs": [],
   "source": []
  },
  {
   "cell_type": "code",
   "execution_count": null,
   "id": "642a3ee9-f144-4387-8536-ff024ca9549c",
   "metadata": {},
   "outputs": [],
   "source": []
  },
  {
   "cell_type": "code",
   "execution_count": null,
   "id": "5ce68539-e5e6-43c1-8a08-a22fd546e7ba",
   "metadata": {},
   "outputs": [],
   "source": []
  },
  {
   "cell_type": "code",
   "execution_count": null,
   "id": "b4c4bb73-6404-4ff1-bc84-0a21a6942dcf",
   "metadata": {},
   "outputs": [],
   "source": []
  },
  {
   "cell_type": "code",
   "execution_count": null,
   "id": "6cd5ddea-d14a-4027-8c9d-a48205b22532",
   "metadata": {},
   "outputs": [],
   "source": []
  },
  {
   "cell_type": "code",
   "execution_count": null,
   "id": "306d567d-95dd-4c08-9a5f-d8c85d700b86",
   "metadata": {},
   "outputs": [],
   "source": []
  },
  {
   "cell_type": "code",
   "execution_count": null,
   "id": "2a46ef28-a074-4179-b601-d4bd59558d97",
   "metadata": {},
   "outputs": [],
   "source": []
  },
  {
   "cell_type": "code",
   "execution_count": null,
   "id": "71a21d1b-ac2a-468d-90f1-32bda1e38a92",
   "metadata": {},
   "outputs": [],
   "source": []
  }
 ],
 "metadata": {
  "kernelspec": {
   "display_name": "Python 3 (ipykernel)",
   "language": "python",
   "name": "python3"
  },
  "language_info": {
   "codemirror_mode": {
    "name": "ipython",
    "version": 3
   },
   "file_extension": ".py",
   "mimetype": "text/x-python",
   "name": "python",
   "nbconvert_exporter": "python",
   "pygments_lexer": "ipython3",
   "version": "3.11.7"
  }
 },
 "nbformat": 4,
 "nbformat_minor": 5
}
